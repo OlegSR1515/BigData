{
 "cells": [
  {
   "cell_type": "markdown",
   "metadata": {},
   "source": [
    "<!--<div align=\"center\">Семинар № 2-->\n",
    "\n",
    "<div align=\"center\"><font color=#4682B4 size=4 face=\n",
    "                          \"arial black\"><em><strong>Семинар № 3</strong></em></font></div>"
   ]
  },
  {
   "cell_type": "markdown",
   "id": "231506cf",
   "metadata": {},
   "source": [
    "<div class=\"alert alert-block alert-info\"><em>\n",
    "<b>Самостоятельная работа.<br>\n",
    "</b>&nbsp; Требуется выяснить:<br>\n",
    "1. Какое соотношение сторон экрана телефона самое популярное,<br>\n",
    "2. Плотность пикселей у экрана.\n",
    "\n",
    "Всего 8 баллов.\n",
    "</em></div>"
   ]
  },
  {
   "cell_type": "code",
   "execution_count": 1,
   "metadata": {},
   "outputs": [],
   "source": [
    "from pyspark.sql import SparkSession\n",
    "import pyspark.sql.functions as F"
   ]
  },
  {
   "cell_type": "code",
   "execution_count": 2,
   "metadata": {},
   "outputs": [
    {
     "data": {
      "text/html": [
       "\n",
       "            <div>\n",
       "                <p><b>SparkSession - in-memory</b></p>\n",
       "                \n",
       "        <div>\n",
       "            <p><b>SparkContext</b></p>\n",
       "\n",
       "            <p><a href=\"http://OlegPC:4040\">Spark UI</a></p>\n",
       "\n",
       "            <dl>\n",
       "              <dt>Version</dt>\n",
       "                <dd><code>v3.5.0</code></dd>\n",
       "              <dt>Master</dt>\n",
       "                <dd><code>local[*]</code></dd>\n",
       "              <dt>AppName</dt>\n",
       "                <dd><code>pyspark-shell</code></dd>\n",
       "            </dl>\n",
       "        </div>\n",
       "        \n",
       "            </div>\n",
       "        "
      ],
      "text/plain": [
       "<pyspark.sql.session.SparkSession at 0x4cdcf88>"
      ]
     },
     "execution_count": 2,
     "metadata": {},
     "output_type": "execute_result"
    }
   ],
   "source": [
    "spark = SparkSession.builder.master('local[*]').getOrCreate()\n",
    "spark"
   ]
  },
  {
   "cell_type": "markdown",
   "metadata": {
    "id": "E9Vb0d0hutEb"
   },
   "source": [
    "Прочитайте содержимое каждого файла в датафрейм и выведите первые несколько строк (1 балл)<br>\n",
    "Применив cast к колонке можно изменить тип данных (F.col().cast(IntegerType()).alias())<br>\n",
    "Приведите все данные к правильному типу, либо считайе сразу верно (1 балл)"
   ]
  },
  {
   "cell_type": "code",
   "execution_count": 3,
   "metadata": {},
   "outputs": [
    {
     "name": "stdout",
     "output_type": "stream",
     "text": [
      "+-------------+----+-----------+--------+---+------+----------+-----+---------+-------+---+---------+--------+----+----+----+---------+-------+------------+----+-----------+\n",
      "|battery_power|blue|clock_speed|dual_sim| fc|four_g|int_memory|m_dep|mobile_wt|n_cores| pc|px_height|px_width| ram|sc_h|sc_w|talk_time|three_g|touch_screen|wifi|price_range|\n",
      "+-------------+----+-----------+--------+---+------+----------+-----+---------+-------+---+---------+--------+----+----+----+---------+-------+------------+----+-----------+\n",
      "|          842|   0|        2.2|       0|  1|     0|         7|  0.6|      188|      2|  2|       20|     756|2549|   9|   7|       19|      0|           0|   1|          1|\n",
      "|         1021|   1|        0.5|       1|  0|     1|        53|  0.7|      136|      3|  6|      905|    1988|2631|  17|   3|        7|      1|           1|   0|          2|\n",
      "|          563|   1|        0.5|       1|  2|     1|        41|  0.9|      145|      5|  6|     1263|    1716|2603|  11|   2|        9|      1|           1|   0|          2|\n",
      "+-------------+----+-----------+--------+---+------+----------+-----+---------+-------+---+---------+--------+----+----+----+---------+-------+------------+----+-----------+\n",
      "only showing top 3 rows\n",
      "\n"
     ]
    }
   ],
   "source": [
    "df_train = spark.read.option(\"header\",\"true\").csv(\"train.csv\")\n",
    "df_train.show(3)"
   ]
  },
  {
   "cell_type": "markdown",
   "metadata": {
    "id": "FjAfrNtXSKBz"
   },
   "source": [
    "* id: ID\n",
    "* battery_power: Total energy a battery can store in one time (mAh)\n",
    "* blue: Support bluetooth or not\n",
    "* clock_speed: Speed at which microprocessor executes instructions\n",
    "* dual_sim: Support dual sim or not\n",
    "* fc: Front Camera mega pixels\n",
    "* four_g: Support 4G or not\n",
    "* int_memory: Internal Memory (GB)\n",
    "* m_dep: Mobile Depth (cm)\n",
    "* mobile_wt: Weight of mobile phone\n",
    "* n_cores: Number of cores of processor\n",
    "* pc: Primary Camera mega pixels\n",
    "* px_height: Pixel Resolution Height\n",
    "* px_width: Pixel Resolution Width\n",
    "* ram: Random Access Memory (MB)\n",
    "* sc_h: Screen Height of mobile (cm)\n",
    "* sc_w: Screen Width of mobile (cm)\n",
    "* talk_time: Time that a single battery charge will last\n",
    "* three_g: Support 3G or not\n",
    "* touch_screen: Has touch screen or not\n",
    "* wifi: Support wifi or not"
   ]
  },
  {
   "cell_type": "code",
   "execution_count": 4,
   "metadata": {
    "scrolled": true
   },
   "outputs": [
    {
     "data": {
      "text/plain": [
       "[('battery_power', 'string'),\n",
       " ('blue', 'string'),\n",
       " ('clock_speed', 'string'),\n",
       " ('dual_sim', 'string'),\n",
       " ('fc', 'string'),\n",
       " ('four_g', 'string'),\n",
       " ('int_memory', 'string'),\n",
       " ('m_dep', 'string'),\n",
       " ('mobile_wt', 'string'),\n",
       " ('n_cores', 'string'),\n",
       " ('pc', 'string'),\n",
       " ('px_height', 'string'),\n",
       " ('px_width', 'string'),\n",
       " ('ram', 'string'),\n",
       " ('sc_h', 'string'),\n",
       " ('sc_w', 'string'),\n",
       " ('talk_time', 'string'),\n",
       " ('three_g', 'string'),\n",
       " ('touch_screen', 'string'),\n",
       " ('wifi', 'string'),\n",
       " ('price_range', 'string')]"
      ]
     },
     "execution_count": 4,
     "metadata": {},
     "output_type": "execute_result"
    }
   ],
   "source": [
    "df_train.dtypes"
   ]
  },
  {
   "cell_type": "code",
   "execution_count": 5,
   "metadata": {},
   "outputs": [],
   "source": [
    "for _ in df_train.columns:\n",
    "    if _ in ['clock_speed', 'm_dep']:\n",
    "        df_train = df_train.withColumn(_, df_train[_].cast('float')) \n",
    "    else:   \n",
    "        df_train = df_train.withColumn(_, df_train[_].cast('int')) "
   ]
  },
  {
   "cell_type": "code",
   "execution_count": 6,
   "metadata": {
    "scrolled": true
   },
   "outputs": [
    {
     "data": {
      "text/plain": [
       "[('battery_power', 'int'),\n",
       " ('blue', 'int'),\n",
       " ('clock_speed', 'float'),\n",
       " ('dual_sim', 'int'),\n",
       " ('fc', 'int'),\n",
       " ('four_g', 'int'),\n",
       " ('int_memory', 'int'),\n",
       " ('m_dep', 'float'),\n",
       " ('mobile_wt', 'int'),\n",
       " ('n_cores', 'int'),\n",
       " ('pc', 'int'),\n",
       " ('px_height', 'int'),\n",
       " ('px_width', 'int'),\n",
       " ('ram', 'int'),\n",
       " ('sc_h', 'int'),\n",
       " ('sc_w', 'int'),\n",
       " ('talk_time', 'int'),\n",
       " ('three_g', 'int'),\n",
       " ('touch_screen', 'int'),\n",
       " ('wifi', 'int'),\n",
       " ('price_range', 'int')]"
      ]
     },
     "execution_count": 6,
     "metadata": {},
     "output_type": "execute_result"
    }
   ],
   "source": [
    "df_train.dtypes"
   ]
  },
  {
   "cell_type": "code",
   "execution_count": 7,
   "metadata": {},
   "outputs": [
    {
     "name": "stdout",
     "output_type": "stream",
     "text": [
      "+---+-------------+----+-----------+--------+---+------+----------+-----+---------+-------+---+---------+--------+----+----+----+---------+-------+------------+----+\n",
      "| id|battery_power|blue|clock_speed|dual_sim| fc|four_g|int_memory|m_dep|mobile_wt|n_cores| pc|px_height|px_width| ram|sc_h|sc_w|talk_time|three_g|touch_screen|wifi|\n",
      "+---+-------------+----+-----------+--------+---+------+----------+-----+---------+-------+---+---------+--------+----+----+----+---------+-------+------------+----+\n",
      "|  1|         1043|   1|        1.8|       1| 14|     0|         5|  0.1|      193|      3| 16|      226|    1412|3476|  12|   7|        2|      0|           1|   0|\n",
      "|  2|          841|   1|        0.5|       1|  4|     1|        61|  0.8|      191|      5| 12|      746|     857|3895|   6|   0|        7|      1|           0|   0|\n",
      "|  3|         1807|   1|        2.8|       0|  1|     0|        27|  0.9|      186|      3|  4|     1270|    1366|2396|  17|  10|       10|      0|           1|   1|\n",
      "+---+-------------+----+-----------+--------+---+------+----------+-----+---------+-------+---+---------+--------+----+----+----+---------+-------+------------+----+\n",
      "only showing top 3 rows\n",
      "\n"
     ]
    }
   ],
   "source": [
    "df_test = spark.read.option(\"header\",\"true\").csv(\"test.csv\")\n",
    "df_test.show(3)"
   ]
  },
  {
   "cell_type": "code",
   "execution_count": 8,
   "metadata": {},
   "outputs": [],
   "source": [
    "for _ in df_test.columns:\n",
    "    if _ in ['clock_speed', 'm_dep']:\n",
    "        df_test = df_test.withColumn(_, df_test[_].cast('float')) \n",
    "    else:   \n",
    "        df_test = df_test.withColumn(_, df_test[_].cast('int'))"
   ]
  },
  {
   "cell_type": "code",
   "execution_count": 9,
   "metadata": {
    "scrolled": true
   },
   "outputs": [
    {
     "data": {
      "text/plain": [
       "[('id', 'int'),\n",
       " ('battery_power', 'int'),\n",
       " ('blue', 'int'),\n",
       " ('clock_speed', 'float'),\n",
       " ('dual_sim', 'int'),\n",
       " ('fc', 'int'),\n",
       " ('four_g', 'int'),\n",
       " ('int_memory', 'int'),\n",
       " ('m_dep', 'float'),\n",
       " ('mobile_wt', 'int'),\n",
       " ('n_cores', 'int'),\n",
       " ('pc', 'int'),\n",
       " ('px_height', 'int'),\n",
       " ('px_width', 'int'),\n",
       " ('ram', 'int'),\n",
       " ('sc_h', 'int'),\n",
       " ('sc_w', 'int'),\n",
       " ('talk_time', 'int'),\n",
       " ('three_g', 'int'),\n",
       " ('touch_screen', 'int'),\n",
       " ('wifi', 'int')]"
      ]
     },
     "execution_count": 9,
     "metadata": {},
     "output_type": "execute_result"
    }
   ],
   "source": [
    "df_test.dtypes"
   ]
  },
  {
   "cell_type": "markdown",
   "metadata": {
    "id": "5-Oeq54KxhXa"
   },
   "source": [
    "Объедините train и test (1 балла)<br>\n",
    "PS: нужно сделать средствами pyspark (аналог в пандас pd.concat([train, test,], axis=0))"
   ]
  },
  {
   "cell_type": "markdown",
   "metadata": {},
   "source": [
    "Добавим недостающие столбцы с None в данные."
   ]
  },
  {
   "cell_type": "code",
   "execution_count": 10,
   "metadata": {},
   "outputs": [],
   "source": [
    "df_train_m = df_train.withColumn(\"id\", F.lit(None)) \n",
    "df_test_m = df_test.withColumn(\"price_range\", F.lit(None)) "
   ]
  },
  {
   "cell_type": "markdown",
   "metadata": {},
   "source": [
    "Объединим в один DataFraim по столбцам."
   ]
  },
  {
   "cell_type": "code",
   "execution_count": 11,
   "metadata": {
    "scrolled": true
   },
   "outputs": [
    {
     "name": "stdout",
     "output_type": "stream",
     "text": [
      "+-------------+----+-----------+--------+---+------+----------+-----+---------+-------+---+---------+--------+----+----+----+---------+-------+------------+----+-----------+----+\n",
      "|battery_power|blue|clock_speed|dual_sim| fc|four_g|int_memory|m_dep|mobile_wt|n_cores| pc|px_height|px_width| ram|sc_h|sc_w|talk_time|three_g|touch_screen|wifi|price_range|  id|\n",
      "+-------------+----+-----------+--------+---+------+----------+-----+---------+-------+---+---------+--------+----+----+----+---------+-------+------------+----+-----------+----+\n",
      "|          842|   0|        2.2|       0|  1|     0|         7|  0.6|      188|      2|  2|       20|     756|2549|   9|   7|       19|      0|           0|   1|          1|NULL|\n",
      "|         1021|   1|        0.5|       1|  0|     1|        53|  0.7|      136|      3|  6|      905|    1988|2631|  17|   3|        7|      1|           1|   0|          2|NULL|\n",
      "|          563|   1|        0.5|       1|  2|     1|        41|  0.9|      145|      5|  6|     1263|    1716|2603|  11|   2|        9|      1|           1|   0|          2|NULL|\n",
      "+-------------+----+-----------+--------+---+------+----------+-----+---------+-------+---+---------+--------+----+----+----+---------+-------+------------+----+-----------+----+\n",
      "only showing top 3 rows\n",
      "\n"
     ]
    }
   ],
   "source": [
    "df_un = df_train_m.unionByName(df_test_m)\n",
    "df_un.show(3)"
   ]
  },
  {
   "cell_type": "code",
   "execution_count": 12,
   "metadata": {},
   "outputs": [
    {
     "data": {
      "text/plain": [
       "3000"
      ]
     },
     "execution_count": 12,
     "metadata": {},
     "output_type": "execute_result"
    }
   ],
   "source": [
    "df_un.count()"
   ]
  },
  {
   "cell_type": "markdown",
   "metadata": {
    "id": "yZgL4q1gyrRm"
   },
   "source": [
    "Выведите отсортированное распределение плотности пикселей в пикселях на дюйм(1 балла)"
   ]
  },
  {
   "cell_type": "markdown",
   "metadata": {},
   "source": [
    "Добавим столбец `pixel_density` с расчетом разрешения экрана в пикселях на дюйм."
   ]
  },
  {
   "cell_type": "code",
   "execution_count": 13,
   "metadata": {
    "scrolled": false
   },
   "outputs": [
    {
     "name": "stdout",
     "output_type": "stream",
     "text": [
      "+-------------+----+-----------+--------+---+------+----------+-----+---------+-------+---+---------+--------+----+----+----+---------+-------+------------+----+-----------+----+------------------+\n",
      "|battery_power|blue|clock_speed|dual_sim| fc|four_g|int_memory|m_dep|mobile_wt|n_cores| pc|px_height|px_width| ram|sc_h|sc_w|talk_time|three_g|touch_screen|wifi|price_range|  id|     pixel_density|\n",
      "+-------------+----+-----------+--------+---+------+----------+-----+---------+-------+---+---------+--------+----+----+----+---------+-------+------------+----+-----------+----+------------------+\n",
      "|          842|   0|        2.2|       0|  1|     0|         7|  0.6|      188|      2|  2|       20|     756|2549|   9|   7|       19|      0|           0|   1|          1|NULL|168.47511337788825|\n",
      "|         1021|   1|        0.5|       1|  0|     1|        53|  0.7|      136|      3|  6|      905|    1988|2631|  17|   3|        7|      1|           1|   0|          2|NULL|321.39416265168416|\n",
      "|          563|   1|        0.5|       1|  2|     1|        41|  0.9|      145|      5|  6|     1263|    1716|2603|  11|   2|        9|      1|           1|   0|          2|NULL| 484.0589631026369|\n",
      "|          615|   1|        2.5|       0|  0|     0|        10|  0.8|      131|      6|  9|     1216|    1786|2769|  16|   8|       11|      1|           0|   0|          2|NULL|306.79280937629557|\n",
      "|         1821|   1|        1.2|       0| 13|     1|        44|  0.6|      141|      2| 14|     1208|    1212|1411|   8|   2|       15|      1|           1|   0|          1|NULL| 527.0844715870838|\n",
      "|         1859|   0|        0.5|       1|  3|     0|        22|  0.7|      164|      1|  7|     1004|    1654|1067|  17|   1|       10|      1|           0|   0|          1|NULL| 288.5938643169313|\n",
      "|         1821|   0|        1.7|       0|  4|     1|        10|  0.8|      139|      8| 10|      381|    1018|3220|  13|   8|       18|      1|           0|   1|          3|NULL|180.87138419970586|\n",
      "+-------------+----+-----------+--------+---+------+----------+-----+---------+-------+---+---------+--------+----+----+----+---------+-------+------------+----+-----------+----+------------------+\n",
      "only showing top 7 rows\n",
      "\n"
     ]
    }
   ],
   "source": [
    "df_un = df_un.withColumn('pixel_density', ((F.col('px_height')**2+F.col('px_width')**2) / \\\n",
    "((F.col('sc_h')/2.54)**2+(F.col('sc_w')/2.54)**2))**.5)\n",
    "df_un.show(7)"
   ]
  },
  {
   "cell_type": "markdown",
   "metadata": {
    "id": "kRb1q9QizDiH"
   },
   "source": [
    "Сохраните результат в csv sep=';', encoding='cp1251'<br>\n",
    "с колонками id, плотность пикселей и общей инфой в формате \"2 ядра 2 гига\"<br>\n",
    "2 балла"
   ]
  },
  {
   "cell_type": "code",
   "execution_count": 14,
   "metadata": {},
   "outputs": [
    {
     "name": "stdout",
     "output_type": "stream",
     "text": [
      "+----+-------------------+---------------+\n",
      "|  id|resolution, px/inch|           info|\n",
      "+----+-------------------+---------------+\n",
      "|NULL|              56.42| 4 ядра; 5 гига|\n",
      "| 876|              60.63|1 ядра; 43 гига|\n",
      "|NULL|              60.67|2 ядра; 11 гига|\n",
      "| 382|              60.77|7 ядра; 52 гига|\n",
      "|NULL|              62.93|3 ядра; 35 гига|\n",
      "| 339|              64.23|6 ядра; 13 гига|\n",
      "|  85|              65.14|8 ядра; 15 гига|\n",
      "|NULL|              66.98|4 ядра; 45 гига|\n",
      "|NULL|              67.27|3 ядра; 35 гига|\n",
      "|NULL|              68.23|5 ядра; 54 гига|\n",
      "+----+-------------------+---------------+\n",
      "only showing top 10 rows\n",
      "\n"
     ]
    }
   ],
   "source": [
    "info = F.concat(F.col(\"n_cores\"),F.lit(\" ядра; \"), F.col(\"int_memory\"),F.lit(\" гига\")).alias(\"info\")\n",
    "tel_data = df_un.sort(F.col('pixel_density'), ascending = True). \\\n",
    "select(\"id\", F.round(\"pixel_density\", scale=2).alias(\"resolution, px/inch\"), info)\n",
    "tel_data.show(10)"
   ]
  },
  {
   "cell_type": "code",
   "execution_count": null,
   "metadata": {},
   "outputs": [],
   "source": [
    "tel_data.write.options(header='True', delimiter=';', encoding='cp1251').csv(\"telephone_data\")"
   ]
  },
  {
   "cell_type": "markdown",
   "metadata": {},
   "source": [
    "***"
   ]
  },
  {
   "cell_type": "markdown",
   "metadata": {},
   "source": [
    "<div class=\"alert alert-block alert-info\"><em>\n",
    "<b>Задание 1.<br>\n",
    "</b>&nbsp; Добавьте к таблице следующие поля:\n",
    "\n",
    "Средняя стомость 10 проданных домов до текущего в том же районе (4digit postcode) (1 балл)<br>\n",
    "Средняя стомость 10 проданных домов после текущего в том же районе (4digit postcode) (1 балл)<br>\n",
    "Стоимость последнего проданного дома до текущего (1 балл)<br>\n",
    "</em></div>"
   ]
  },
  {
   "cell_type": "code",
   "execution_count": 15,
   "metadata": {},
   "outputs": [
    {
     "name": "stdout",
     "output_type": "stream",
     "text": [
      "+-------------------+--------+------+------------+--------+\n",
      "|           datesold|postcode| price|propertyType|bedrooms|\n",
      "+-------------------+--------+------+------------+--------+\n",
      "|2007-02-07 00:00:00|    2607|525000|       house|       4|\n",
      "|2007-02-27 00:00:00|    2906|290000|       house|       3|\n",
      "|2007-03-07 00:00:00|    2905|328000|       house|       3|\n",
      "|2007-03-09 00:00:00|    2905|380000|       house|       4|\n",
      "|2007-03-21 00:00:00|    2906|310000|       house|       3|\n",
      "+-------------------+--------+------+------------+--------+\n",
      "only showing top 5 rows\n",
      "\n"
     ]
    }
   ],
   "source": [
    "df = spark.read.option(\"header\",\"true\").csv(\"raw_sales.csv\")\n",
    "df.show(5)"
   ]
  },
  {
   "cell_type": "code",
   "execution_count": 16,
   "metadata": {},
   "outputs": [
    {
     "data": {
      "text/plain": [
       "29580"
      ]
     },
     "execution_count": 16,
     "metadata": {},
     "output_type": "execute_result"
    }
   ],
   "source": [
    "df.count()"
   ]
  },
  {
   "cell_type": "markdown",
   "metadata": {},
   "source": [
    "Отсортируем по дате продаж."
   ]
  },
  {
   "cell_type": "code",
   "execution_count": 17,
   "metadata": {},
   "outputs": [],
   "source": [
    "df = df.sort(F.col('datesold'), ascending = True)"
   ]
  },
  {
   "cell_type": "code",
   "execution_count": 18,
   "metadata": {},
   "outputs": [],
   "source": [
    "from pyspark.sql.window import Window as W"
   ]
  },
  {
   "cell_type": "code",
   "execution_count": 19,
   "metadata": {},
   "outputs": [
    {
     "name": "stdout",
     "output_type": "stream",
     "text": [
      "+-------------------+--------+-------+------------+--------+---------+\n",
      "|           datesold|postcode|  price|propertyType|bedrooms| pr_10bef|\n",
      "+-------------------+--------+-------+------------+--------+---------+\n",
      "|2007-07-08 00:00:00|    2600| 327000|       house|       1| 327000.0|\n",
      "|2007-08-16 00:00:00|    2600| 790000|       house|       4| 558500.0|\n",
      "|2007-12-05 00:00:00|    2600| 825000|       house|       3|647333.33|\n",
      "|2008-01-21 00:00:00|    2600| 315000|        unit|       1| 564250.0|\n",
      "|2008-04-24 00:00:00|    2600| 292500|       house|       1| 509900.0|\n",
      "|2008-05-30 00:00:00|    2600| 329000|        unit|       2| 479750.0|\n",
      "|2008-06-19 00:00:00|    2600| 765000|       house|       5| 520500.0|\n",
      "|2008-07-29 00:00:00|    2600| 927000|       house|       4| 571312.5|\n",
      "|2008-09-02 00:00:00|    2600|1380000|       house|       5|661166.67|\n",
      "|2008-09-08 00:00:00|    2600| 740000|       house|       3| 669050.0|\n",
      "+-------------------+--------+-------+------------+--------+---------+\n",
      "only showing top 10 rows\n",
      "\n"
     ]
    }
   ],
   "source": [
    "w_1 = W.partitionBy(\"postcode\").rowsBetween(-10,0)\n",
    "df = df.withColumn(\"pr_10bef\", F.round(F.avg(df.price).over(w_1), 2))\n",
    "df.show(10)"
   ]
  },
  {
   "cell_type": "code",
   "execution_count": 20,
   "metadata": {
    "scrolled": false
   },
   "outputs": [
    {
     "name": "stdout",
     "output_type": "stream",
     "text": [
      "+-------------------+--------+-------+------------+--------+---------+---------+\n",
      "|           datesold|postcode|  price|propertyType|bedrooms| pr_10bef| pr_10aft|\n",
      "+-------------------+--------+-------+------------+--------+---------+---------+\n",
      "|2007-07-08 00:00:00|    2600| 327000|       house|       1| 327000.0|673681.82|\n",
      "|2007-08-16 00:00:00|    2600| 790000|       house|       4| 558500.0|706681.82|\n",
      "|2007-12-05 00:00:00|    2600| 825000|       house|       3|647333.33|692590.91|\n",
      "|2008-01-21 00:00:00|    2600| 315000|        unit|       1| 564250.0|703954.55|\n",
      "|2008-04-24 00:00:00|    2600| 292500|       house|       1| 509900.0|741681.82|\n",
      "|2008-05-30 00:00:00|    2600| 329000|        unit|       2| 479750.0|792818.18|\n",
      "|2008-06-19 00:00:00|    2600| 765000|       house|       5| 520500.0|859045.45|\n",
      "|2008-07-29 00:00:00|    2600| 927000|       house|       4| 571312.5|816772.73|\n",
      "|2008-09-02 00:00:00|    2600|1380000|       house|       5|661166.67|775681.82|\n",
      "|2008-09-08 00:00:00|    2600| 740000|       house|       3| 669050.0|754772.73|\n",
      "|2008-09-17 00:00:00|    2600| 720000|       house|       3|673681.82|739772.73|\n",
      "+-------------------+--------+-------+------------+--------+---------+---------+\n",
      "only showing top 11 rows\n",
      "\n"
     ]
    }
   ],
   "source": [
    "w_2 = W.partitionBy(\"postcode\").rowsBetween(0,10)\n",
    "df = df.withColumn(\"pr_10aft\", F.round(F.avg(df.price).over(w_2), 2))\n",
    "df.show(11)"
   ]
  },
  {
   "cell_type": "code",
   "execution_count": 21,
   "metadata": {
    "scrolled": true
   },
   "outputs": [
    {
     "name": "stdout",
     "output_type": "stream",
     "text": [
      "+-------------------+--------+------+------------+--------+---------+---------+------+\n",
      "|           datesold|postcode| price|propertyType|bedrooms| pr_10bef| pr_10aft| pr_pr|\n",
      "+-------------------+--------+------+------------+--------+---------+---------+------+\n",
      "|2007-07-08 00:00:00|    2600|327000|       house|       1| 327000.0|673681.82|  NULL|\n",
      "|2007-08-16 00:00:00|    2600|790000|       house|       4| 558500.0|706681.82|327000|\n",
      "|2007-12-05 00:00:00|    2600|825000|       house|       3|647333.33|692590.91|790000|\n",
      "|2008-01-21 00:00:00|    2600|315000|        unit|       1| 564250.0|703954.55|825000|\n",
      "|2008-04-24 00:00:00|    2600|292500|       house|       1| 509900.0|741681.82|315000|\n",
      "+-------------------+--------+------+------------+--------+---------+---------+------+\n",
      "only showing top 5 rows\n",
      "\n"
     ]
    }
   ],
   "source": [
    "w_3 = W.partitionBy(\"postcode\").orderBy(F.asc(\"datesold\"))\n",
    "df = df.withColumn(\"pr_pr\",F.lag(\"price\").over(w_3))\n",
    "df.show(5)"
   ]
  },
  {
   "cell_type": "markdown",
   "metadata": {
    "id": "SoKJ_YOBUQGL"
   },
   "source": [
    "Найдите среднюю цену жилья для каждого года и приджойните эти данные к таблице из задания 1. (2 балла)\n",
    "\n",
    "*(left join on a.year(date of sale) = b.year, где a - таблица из первого задания, а b таблица после группировки)*"
   ]
  },
  {
   "cell_type": "markdown",
   "metadata": {},
   "source": [
    "Разделим столбец `datesold` и создадим столбец `year` в новом DataFrame."
   ]
  },
  {
   "cell_type": "code",
   "execution_count": 22,
   "metadata": {
    "scrolled": false
   },
   "outputs": [
    {
     "name": "stdout",
     "output_type": "stream",
     "text": [
      "+-------------------+----+------+\n",
      "|            dat_sol|year| price|\n",
      "+-------------------+----+------+\n",
      "|2007-02-07 00:00:00|2007|525000|\n",
      "|2007-02-27 00:00:00|2007|290000|\n",
      "|2007-03-07 00:00:00|2007|328000|\n",
      "|2007-03-09 00:00:00|2007|380000|\n",
      "|2007-03-21 00:00:00|2007|310000|\n",
      "+-------------------+----+------+\n",
      "only showing top 5 rows\n",
      "\n"
     ]
    }
   ],
   "source": [
    "df_2 = df.select(df.datesold.alias(\"dat_sol\"), \\\n",
    "                 F.split(df[\"datesold\"], '-').getItem(0).alias(\"year\"), \"price\")\n",
    "df_2.show(5)"
   ]
  },
  {
   "cell_type": "markdown",
   "metadata": {},
   "source": [
    "Сгруппируем по `year` и найдём среднюю для каждого года."
   ]
  },
  {
   "cell_type": "code",
   "execution_count": 23,
   "metadata": {},
   "outputs": [
    {
     "name": "stdout",
     "output_type": "stream",
     "text": [
      "+-------------------+----+---------+\n",
      "|            dat_sol|year|avg_ye_pr|\n",
      "+-------------------+----+---------+\n",
      "|2007-02-07 00:00:00|2007|522377.21|\n",
      "|2007-02-27 00:00:00|2007|522377.21|\n",
      "|2007-03-07 00:00:00|2007|522377.21|\n",
      "|2007-03-09 00:00:00|2007|522377.21|\n",
      "|2007-03-21 00:00:00|2007|522377.21|\n",
      "|2007-04-04 00:00:00|2007|522377.21|\n",
      "|2007-04-24 00:00:00|2007|522377.21|\n",
      "|2007-04-30 00:00:00|2007|522377.21|\n",
      "|2007-05-24 00:00:00|2007|522377.21|\n",
      "|2007-05-25 00:00:00|2007|522377.21|\n",
      "+-------------------+----+---------+\n",
      "only showing top 10 rows\n",
      "\n"
     ]
    }
   ],
   "source": [
    "df_2 = df_2.withColumn(\"avg_ye_pr\", F.round(F.avg(df.price).over(W.partitionBy(\"year\")), 2))\n",
    "df_2 = df_2.drop(\"price\")\n",
    "df_2.show(10)"
   ]
  },
  {
   "cell_type": "markdown",
   "metadata": {},
   "source": [
    "Объединим и удалим ненужный столбец."
   ]
  },
  {
   "cell_type": "code",
   "execution_count": 24,
   "metadata": {
    "scrolled": false
   },
   "outputs": [
    {
     "name": "stdout",
     "output_type": "stream",
     "text": [
      "+-------------------+--------+------+------------+--------+---------+---------+------+----+---------+\n",
      "|           datesold|postcode| price|propertyType|bedrooms| pr_10bef| pr_10aft| pr_pr|year|avg_ye_pr|\n",
      "+-------------------+--------+------+------------+--------+---------+---------+------+----+---------+\n",
      "|2007-07-08 00:00:00|    2600|327000|       house|       1| 327000.0|673681.82|  NULL|2007|522377.21|\n",
      "|2007-08-16 00:00:00|    2600|790000|       house|       4| 558500.0|706681.82|327000|2007|522377.21|\n",
      "|2007-12-05 00:00:00|    2600|825000|       house|       3|647333.33|692590.91|790000|2007|522377.21|\n",
      "|2008-01-21 00:00:00|    2600|315000|        unit|       1| 564250.0|703954.55|825000|2008|493814.16|\n",
      "|2008-04-24 00:00:00|    2600|292500|       house|       1| 509900.0|741681.82|315000|2008|493814.16|\n",
      "+-------------------+--------+------+------------+--------+---------+---------+------+----+---------+\n",
      "only showing top 5 rows\n",
      "\n"
     ]
    }
   ],
   "source": [
    "df_result = df.join(df_2, df.datesold == df_2.dat_sol, 'left').drop('dat_sol')\n",
    "df_result.show(5)"
   ]
  },
  {
   "cell_type": "markdown",
   "metadata": {},
   "source": [
    "\"Причешем\" таблицу."
   ]
  },
  {
   "cell_type": "code",
   "execution_count": 25,
   "metadata": {
    "scrolled": true
   },
   "outputs": [
    {
     "name": "stdout",
     "output_type": "stream",
     "text": [
      "+----------+--------+------+------------+--------+---------+---------+------+----+---------+\n",
      "| date_sold|postcode| price|propertyType|bedrooms| pr_10bef| pr_10aft| pr_pr|year|avg_ye_pr|\n",
      "+----------+--------+------+------------+--------+---------+---------+------+----+---------+\n",
      "|2007-07-08|    2600|327000|       house|       1| 327000.0|673681.82|  NULL|2007|522377.21|\n",
      "|2007-08-16|    2600|790000|       house|       4| 558500.0|706681.82|327000|2007|522377.21|\n",
      "|2007-12-05|    2600|825000|       house|       3|647333.33|692590.91|790000|2007|522377.21|\n",
      "|2008-01-21|    2600|315000|        unit|       1| 564250.0|703954.55|825000|2008|493814.16|\n",
      "|2008-04-24|    2600|292500|       house|       1| 509900.0|741681.82|315000|2008|493814.16|\n",
      "|2008-04-24|    2600|292500|       house|       1| 509900.0|741681.82|315000|2008|493814.16|\n",
      "|2008-05-30|    2600|329000|        unit|       2| 479750.0|792818.18|292500|2008|493814.16|\n",
      "+----------+--------+------+------------+--------+---------+---------+------+----+---------+\n",
      "only showing top 7 rows\n",
      "\n"
     ]
    }
   ],
   "source": [
    "df_result = df_result.withColumn(\"date_sold\",F.split(df[\"datesold\"], ' ').getItem(0))\n",
    "df_result = df_result.drop('datesold')\n",
    "df_result = df_result.select([df_result.columns[-1]]+ df_result.columns[:-1])\n",
    "df_result.show(7)"
   ]
  },
  {
   "cell_type": "markdown",
   "metadata": {},
   "source": [
    "**Непонятное задание**. Сделал, как понял."
   ]
  },
  {
   "cell_type": "code",
   "execution_count": 26,
   "metadata": {},
   "outputs": [
    {
     "data": {
      "text/plain": [
       "29580"
      ]
     },
     "execution_count": 26,
     "metadata": {},
     "output_type": "execute_result"
    }
   ],
   "source": [
    "df_result.distinct().count()"
   ]
  }
 ],
 "metadata": {
  "colab": {
   "provenance": []
  },
  "kernelspec": {
   "display_name": "Python 3",
   "language": "python",
   "name": "python3"
  },
  "language_info": {
   "codemirror_mode": {
    "name": "ipython",
    "version": 3
   },
   "file_extension": ".py",
   "mimetype": "text/x-python",
   "name": "python",
   "nbconvert_exporter": "python",
   "pygments_lexer": "ipython3",
   "version": "3.8.8"
  }
 },
 "nbformat": 4,
 "nbformat_minor": 1
}
