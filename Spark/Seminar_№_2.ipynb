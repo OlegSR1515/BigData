{
 "cells": [
  {
   "cell_type": "code",
   "execution_count": 10,
   "id": "749c6777",
   "metadata": {},
   "outputs": [],
   "source": [
    "from pyspark.sql import SparkSession\n",
    "from pyspark.sql.functions import col\n",
    "import pyspark.sql.functions as F\n",
    "\n",
    "spark = SparkSession.builder.master('local[*]').getOrCreate()"
   ]
  },
  {
   "cell_type": "code",
   "execution_count": 11,
   "id": "f63e3da9",
   "metadata": {},
   "outputs": [],
   "source": [
    "df = spark.read.option(\"header\",\"true\").csv(\"train.csv\")"
   ]
  },
  {
   "cell_type": "code",
   "execution_count": 12,
   "id": "43b926f1",
   "metadata": {},
   "outputs": [
    {
     "name": "stdout",
     "output_type": "stream",
     "text": [
      "+--------+------+----+------------------+-----+-------+------+-------+-----------+-----+\n",
      "|survived|   sex| age|n_siblings_spouses|parch|   fare| class|   deck|embark_town|alone|\n",
      "+--------+------+----+------------------+-----+-------+------+-------+-----------+-----+\n",
      "|       0|  male|22.0|                 1|    0|   7.25| Third|unknown|Southampton|    n|\n",
      "|       1|female|38.0|                 1|    0|71.2833| First|      C|  Cherbourg|    n|\n",
      "|       1|female|26.0|                 0|    0|  7.925| Third|unknown|Southampton|    y|\n",
      "|       1|female|35.0|                 1|    0|   53.1| First|      C|Southampton|    n|\n",
      "|       0|  male|28.0|                 0|    0| 8.4583| Third|unknown| Queenstown|    y|\n",
      "|       0|  male| 2.0|                 3|    1| 21.075| Third|unknown|Southampton|    n|\n",
      "|       1|female|27.0|                 0|    2|11.1333| Third|unknown|Southampton|    n|\n",
      "|       1|female|14.0|                 1|    0|30.0708|Second|unknown|  Cherbourg|    n|\n",
      "|       1|female| 4.0|                 1|    1|   16.7| Third|      G|Southampton|    n|\n",
      "|       0|  male|20.0|                 0|    0|   8.05| Third|unknown|Southampton|    y|\n",
      "|       0|  male|39.0|                 1|    5| 31.275| Third|unknown|Southampton|    n|\n",
      "|       0|female|14.0|                 0|    0| 7.8542| Third|unknown|Southampton|    y|\n",
      "|       0|  male| 2.0|                 4|    1| 29.125| Third|unknown| Queenstown|    n|\n",
      "|       1|  male|28.0|                 0|    0|   13.0|Second|unknown|Southampton|    y|\n",
      "|       0|female|31.0|                 1|    0|   18.0| Third|unknown|Southampton|    n|\n",
      "|       1|female|28.0|                 0|    0|  7.225| Third|unknown|  Cherbourg|    y|\n",
      "|       0|  male|35.0|                 0|    0|   26.0|Second|unknown|Southampton|    y|\n",
      "|       1|  male|28.0|                 0|    0|   35.5| First|      A|Southampton|    y|\n",
      "|       1|female|38.0|                 1|    5|31.3875| Third|unknown|Southampton|    n|\n",
      "|       0|  male|28.0|                 0|    0|  7.225| Third|unknown|  Cherbourg|    y|\n",
      "+--------+------+----+------------------+-----+-------+------+-------+-----------+-----+\n",
      "only showing top 20 rows\n",
      "\n"
     ]
    }
   ],
   "source": [
    "df.show()"
   ]
  },
  {
   "cell_type": "code",
   "execution_count": 13,
   "id": "6bfff121",
   "metadata": {},
   "outputs": [
    {
     "name": "stdout",
     "output_type": "stream",
     "text": [
      "В таблице 627 строк.\n"
     ]
    }
   ],
   "source": [
    "print(f'В таблице {df.count()} строк.')"
   ]
  },
  {
   "cell_type": "code",
   "execution_count": 14,
   "id": "b98b6056",
   "metadata": {},
   "outputs": [
    {
     "name": "stdout",
     "output_type": "stream",
     "text": [
      "В 410 строках таблицы указан мужской пол.\n"
     ]
    }
   ],
   "source": [
    "c_m = df.filter(col ('sex') == 'male').count()\n",
    "print(f'В {c_m} строках таблицы указан мужской пол.')"
   ]
  },
  {
   "cell_type": "code",
   "execution_count": 22,
   "id": "b43e0f70",
   "metadata": {},
   "outputs": [
    {
     "name": "stdout",
     "output_type": "stream",
     "text": [
      "+------+--------+\n",
      "|   sex|survived|\n",
      "+------+--------+\n",
      "|female|   169.0|\n",
      "|  male|    74.0|\n",
      "+------+--------+\n",
      "\n"
     ]
    }
   ],
   "source": [
    "df.groupby(col('sex')).agg(F.sum(col('survived')).alias(\"survived\")).show()"
   ]
  },
  {
   "cell_type": "code",
   "execution_count": 24,
   "id": "ae329e4f",
   "metadata": {},
   "outputs": [
    {
     "name": "stdout",
     "output_type": "stream",
     "text": [
      "+------+--------+\n",
      "| class|mean age|\n",
      "+------+--------+\n",
      "| First|    37.0|\n",
      "|Second|    30.0|\n",
      "| Third|    26.0|\n",
      "+------+--------+\n",
      "\n"
     ]
    }
   ],
   "source": [
    "df.groupby(col('class')).agg(F.round(F.mean(col('age'))).alias(\"mean age\")).show()"
   ]
  }
 ],
 "metadata": {
  "kernelspec": {
   "display_name": "Python 3",
   "language": "python",
   "name": "python3"
  },
  "language_info": {
   "codemirror_mode": {
    "name": "ipython",
    "version": 3
   },
   "file_extension": ".py",
   "mimetype": "text/x-python",
   "name": "python",
   "nbconvert_exporter": "python",
   "pygments_lexer": "ipython3",
   "version": "3.8.8"
  }
 },
 "nbformat": 4,
 "nbformat_minor": 5
}
