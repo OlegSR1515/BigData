{
 "cells": [
  {
   "cell_type": "markdown",
   "id": "4c67cd32",
   "metadata": {},
   "source": [
    "<!--<div align=\"center\">Семинар № 2-->\n",
    "\n",
    "<div align=\"center\"><font color=#4682B4 size=4 face=\n",
    "                          \"arial black\"><em><strong>Семинар 1</strong></em></font></div>"
   ]
  },
  {
   "cell_type": "markdown",
   "id": "231506cf",
   "metadata": {},
   "source": [
    "<div class=\"alert alert-block alert-info\"><em>\n",
    "    Сделайте mapper и reducer, чтобы посчитать среднее и дисперсию оценок за фильм.  "
   ]
  },
  {
   "cell_type": "code",
   "execution_count": 81,
   "metadata": {},
   "outputs": [],
   "source": [
    "import json"
   ]
  },
  {
   "cell_type": "code",
   "execution_count": 82,
   "metadata": {
    "id": "Iwf45HvybcFb"
   },
   "outputs": [],
   "source": [
    "def mapper(path):\n",
    "    if path.is_file() and path.suffix == '.json':\n",
    "        with open(path, 'r') as f:\n",
    "            info = json.load(f)\n",
    "        return (float(info['movieIMDbRating']), )\n",
    "\n",
    "\n",
    "def reducer(score_data1, score_data2):\n",
    "    if score_data1 is None and score_data2 is None:\n",
    "        return None\n",
    "    elif score_data1 is None:\n",
    "        return score_data2\n",
    "    elif score_data2 is None:\n",
    "        return score_data1\n",
    "    else:\n",
    "        scores = []\n",
    "        if len(score_data1) == 1:\n",
    "            n, mean, M2 = 0, 0.0, 0\n",
    "            scores.append(score_data1[0])\n",
    "        else:\n",
    "            n, mean, M2 = score_data1\n",
    "        scores.append(score_data2[0])\n",
    "        for score in scores:\n",
    "            n += 1\n",
    "            delta = score - mean\n",
    "            mean += delta / n\n",
    "            M2 += delta * (score - mean)\n",
    "        return n, mean, M2"
   ]
  },
  {
   "cell_type": "code",
   "execution_count": 83,
   "metadata": {
    "colab": {
     "base_uri": "https://localhost:8080/"
    },
    "id": "OYWxmWLkenYR",
    "outputId": "a3b96d76-e765-4fb9-dfc7-491df822c5cf"
   },
   "outputs": [
    {
     "name": "stdout",
     "output_type": "stream",
     "text": [
      "8.030000000000001 1.0517128885774867\n",
      "CPU times: user 2.41 ms, sys: 3.41 ms, total: 5.83 ms\n",
      "Wall time: 8.32 ms\n"
     ]
    }
   ],
   "source": [
    "%%time\n",
    "n, mean, M2 = reduce(reducer, map(mapper, Path('imdb-user-reviews').glob('**/*')))\n",
    "print(mean, (M2 / n) ** (1/2))"
   ]
  },
  {
   "cell_type": "code",
   "execution_count": 84,
   "metadata": {
    "colab": {
     "base_uri": "https://localhost:8080/"
    },
    "id": "bdmlmEL1hQIp",
    "outputId": "55ea4dfb-1cc2-44c8-b2dd-fce2f69098d8"
   },
   "outputs": [
    {
     "name": "stdout",
     "output_type": "stream",
     "text": [
      "8.030000000000001 1.0517128885774867\n",
      "CPU times: user 29.6 ms, sys: 26.7 ms, total: 56.3 ms\n",
      "Wall time: 988 ms\n"
     ]
    }
   ],
   "source": [
    "%%time\n",
    "n, mean, M2 = reduce(reducer, Parallel(n_jobs=2)(delayed(mapper)(path) for path in Path('imdb-user-reviews').glob('**/*')))\n",
    "print(mean, (M2 / n) ** (1/2))"
   ]
  },
  {
   "cell_type": "code",
   "execution_count": 36,
   "metadata": {
    "colab": {
     "base_uri": "https://localhost:8080/"
    },
    "id": "R3z6TwILB8Kv",
    "outputId": "e098b341-d3d5-4108-9e5a-d94f7400821a"
   },
   "outputs": [
    {
     "name": "stdout",
     "output_type": "stream",
     "text": [
      "8.02999999999977 1.0517128885774845\n",
      "CPU times: user 39.9 s, sys: 27.6 s, total: 1min 7s\n",
      "Wall time: 1min 7s\n"
     ]
    }
   ],
   "source": [
    "%%time\n",
    "n, mean, M2 = reduce(reducer, map(mapper, list(Path('imdb-user-reviews').glob('**/*')) * 100_000))\n",
    "print(mean, (M2 / n) ** (1/2))"
   ]
  },
  {
   "cell_type": "code",
   "execution_count": 37,
   "metadata": {
    "id": "SlivUhnUCkLa"
   },
   "outputs": [],
   "source": [
    "from joblib import Parallel, delayed"
   ]
  },
  {
   "cell_type": "code",
   "execution_count": 88,
   "metadata": {
    "colab": {
     "base_uri": "https://localhost:8080/"
    },
    "id": "rfrzjAWpCWmC",
    "outputId": "a26013b5-1975-4163-d4df-f895bd7f8430"
   },
   "outputs": [
    {
     "name": "stdout",
     "output_type": "stream",
     "text": [
      "8.02999999999977 1.0517128885774845\n",
      "CPU times: user 18.7 s, sys: 314 ms, total: 19 s\n",
      "Wall time: 52.5 s\n"
     ]
    }
   ],
   "source": [
    "%%time\n",
    "n, mean, M2 = reduce(reducer, Parallel(n_jobs=2)(delayed(mapper)(path) for path in list(Path('imdb-user-reviews').glob('**/*')) * 100_000))\n",
    "print(mean, (M2 / n) ** (1/2))"
   ]
  },
  {
   "cell_type": "code",
   "execution_count": 85,
   "metadata": {
    "id": "0oBpvVI_CgSM"
   },
   "outputs": [
    {
     "name": "stdout",
     "output_type": "stream",
     "text": [
      "8.02999999999977 1.0517128885774845\n",
      "CPU times: user 16.1 s, sys: 469 ms, total: 16.5 s\n",
      "Wall time: 24.9 s\n"
     ]
    }
   ],
   "source": [
    "%%time\n",
    "N = 4\n",
    "n, mean, M2 = reduce(reducer, Parallel(n_jobs=N)(delayed(mapper)(path) for path in list(Path('imdb-user-reviews').glob('**/*')) * 100_000))\n",
    "print(mean, (M2 / n) ** (1/2))"
   ]
  },
  {
   "cell_type": "code",
   "execution_count": 89,
   "metadata": {},
   "outputs": [
    {
     "name": "stdout",
     "output_type": "stream",
     "text": [
      "8.02999999999977 1.0517128885774845\n",
      "CPU times: user 20.5 s, sys: 498 ms, total: 21 s\n",
      "Wall time: 25.7 s\n"
     ]
    }
   ],
   "source": [
    "%%time\n",
    "N = 6\n",
    "n, mean, M2 = reduce(reducer, Parallel(n_jobs=N)(delayed(mapper)(path) for path in list(Path('imdb-user-reviews').glob('**/*')) * 100_000))\n",
    "print(mean, (M2 / n) ** (1/2))"
   ]
  },
  {
   "cell_type": "code",
   "execution_count": 86,
   "metadata": {},
   "outputs": [
    {
     "name": "stdout",
     "output_type": "stream",
     "text": [
      "8.02999999999977 1.0517128885774845\n",
      "CPU times: user 23.4 s, sys: 559 ms, total: 24 s\n",
      "Wall time: 26.9 s\n"
     ]
    }
   ],
   "source": [
    "%%time\n",
    "N = 8\n",
    "n, mean, M2 = reduce(reducer, Parallel(n_jobs=N)(delayed(mapper)(path) for path in list(Path('imdb-user-reviews').glob('**/*')) * 100_000))\n",
    "print(mean, (M2 / n) ** (1/2))"
   ]
  },
  {
   "cell_type": "code",
   "execution_count": 87,
   "metadata": {},
   "outputs": [
    {
     "name": "stdout",
     "output_type": "stream",
     "text": [
      "8.02999999999977 1.0517128885774845\n",
      "CPU times: user 26.5 s, sys: 774 ms, total: 27.3 s\n",
      "Wall time: 32.4 s\n"
     ]
    }
   ],
   "source": [
    "%%time\n",
    "N = 16\n",
    "n, mean, M2 = reduce(reducer, Parallel(n_jobs=N)(delayed(mapper)(path) for path in list(Path('imdb-user-reviews').glob('**/*')) * 100_000))\n",
    "print(mean, (M2 / n) ** (1/2))"
   ]
  },
  {
   "cell_type": "code",
   "execution_count": 42,
   "metadata": {},
   "outputs": [
    {
     "name": "stdout",
     "output_type": "stream",
     "text": [
      "8.02999999999977 1.0517128885774845\n",
      "CPU times: user 16.3 s, sys: 215 ms, total: 16.5 s\n",
      "Wall time: 17.2 s\n"
     ]
    }
   ],
   "source": [
    "%%time\n",
    "N = 10\n",
    "n, mean, M2 = reduce(reducer, Parallel(n_jobs=N)(delayed(mapper)(path) for path in list(Path('imdb-user-reviews').glob('**/*')) * 100_000))\n",
    "print(mean, (M2 / n) ** (1/2))"
   ]
  }
 ],
 "metadata": {
  "colab": {
   "provenance": []
  },
  "kernelspec": {
   "display_name": "Python 3",
   "language": "python",
   "name": "python3"
  },
  "language_info": {
   "codemirror_mode": {
    "name": "ipython",
    "version": 3
   },
   "file_extension": ".py",
   "mimetype": "text/x-python",
   "name": "python",
   "nbconvert_exporter": "python",
   "pygments_lexer": "ipython3",
   "version": "3.8.8"
  }
 },
 "nbformat": 4,
 "nbformat_minor": 1
}
